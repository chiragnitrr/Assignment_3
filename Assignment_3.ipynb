{
 "cells": [
  {
   "cell_type": "code",
   "execution_count": 9,
   "id": "51665485-83ac-4b27-b58c-d2b8c40f733c",
   "metadata": {},
   "outputs": [],
   "source": [
    "# Q1. Which keyword is used to create a function? Create a function to return a list of odd numbers in the \n",
    "# range of 1 to 25.\n",
    "\n",
    "# Answer : def Keyword is used to creat function.\n",
    "\n",
    "def separate_odd():\n",
    "    l = []\n",
    "    for i in range(1,25):\n",
    "        if i%2 != 0 :\n",
    "            l.append(i)\n",
    "    return l"
   ]
  },
  {
   "cell_type": "code",
   "execution_count": 10,
   "id": "d8380188-d803-4cd3-8884-b9b4bcb041ee",
   "metadata": {},
   "outputs": [
    {
     "data": {
      "text/plain": [
       "[1, 3, 5, 7, 9, 11, 13, 15, 17, 19, 21, 23]"
      ]
     },
     "execution_count": 10,
     "metadata": {},
     "output_type": "execute_result"
    }
   ],
   "source": [
    "separate_odd()"
   ]
  },
  {
   "cell_type": "code",
   "execution_count": 11,
   "id": "b6caacd9-236a-48b2-bfd9-94471d0cd856",
   "metadata": {},
   "outputs": [],
   "source": [
    "# Q2. Why *args and **kwargs is used in some functions? Create a function each for *args and **kwargs \n",
    "# to demonstrate their use.\n",
    "\n",
    "#Answer : If there is a function which takes multiple arguments and the number of argument is not fix then we \n",
    "#        use *args as argument in function defination and when there is need to cread a dictionary with the \n",
    "#        help of function then in function defination we use **kwargs as argument.\n",
    "\n",
    "def creat_list(*args):\n",
    "    return args\n",
    "\n",
    "def creat_dictionary(**kwargs):\n",
    "    return kwargs"
   ]
  },
  {
   "cell_type": "code",
   "execution_count": 12,
   "id": "9d2fbc86-1a82-4900-9137-9721c2ecb038",
   "metadata": {},
   "outputs": [
    {
     "data": {
      "text/plain": [
       "(1, 2, 3, 4, 5, 6)"
      ]
     },
     "execution_count": 12,
     "metadata": {},
     "output_type": "execute_result"
    }
   ],
   "source": [
    "creat_list(1,2,3,4,5,6)"
   ]
  },
  {
   "cell_type": "code",
   "execution_count": 13,
   "id": "467b0dac-2150-441e-bfd3-7394d9bc59a1",
   "metadata": {},
   "outputs": [
    {
     "data": {
      "text/plain": [
       "{'a': 1, 'b': 2, 'c': 3, 'd': 4, 'e': 5}"
      ]
     },
     "execution_count": 13,
     "metadata": {},
     "output_type": "execute_result"
    }
   ],
   "source": [
    "creat_dictionary(a=1,b=2,c=3,d=4,e=5)"
   ]
  },
  {
   "cell_type": "code",
   "execution_count": 2,
   "id": "151adf87-2369-4791-81d1-6c0bc6a06fb0",
   "metadata": {},
   "outputs": [
    {
     "name": "stdout",
     "output_type": "stream",
     "text": [
      "2\n",
      "4\n",
      "6\n",
      "16\n",
      "18\n"
     ]
    }
   ],
   "source": [
    "# Q3.  What is an iterator in python? Name the method used to initialise the iterator object and the method \n",
    "# used for iteration. Use these methods to print the first five elements of the given list [2, 4, 6, 8, 10, 12, 14, \n",
    "# 16, 18, 20].\n",
    "\n",
    "# Answer : In Python, an iterator is an object that implements the iterator protocol, which consists of the iter() and next() \n",
    "# methods. Iterators are used to iterate over elements in a collection or sequence. The iter() method is used to \n",
    "# initialize the iterator object. It returns the iterator object itself and is responsible for preparing the iterator \n",
    "# for iteration.The next() method is used for iteration. It returns the next element in the sequence. If there are no \n",
    "# more elements, it raises the StopIteration exception.\n",
    "\n",
    "l = [2,4,6,16,18,20]\n",
    "it = iter(l)\n",
    "for i in range(5):\n",
    "    n = next(it)\n",
    "    print(n)"
   ]
  },
  {
   "cell_type": "code",
   "execution_count": 1,
   "id": "9ea2a9be-34b4-48b5-ab34-fe103f8c29ab",
   "metadata": {},
   "outputs": [],
   "source": [
    "# Q4.  What is a generator function in python? Why yield keyword is used? Give an example of a generator \n",
    "# function.\n",
    "# Answer : Generator is a function that returns an iterator that produces a sequence of value when iterated is \n",
    "#          over . generator are usefull when we want to produce large a large sequece of data but we don't want \n",
    "#          to store all of them in memory at once. yeild keyword is used in generator function.\n",
    "        \n",
    "def fibonacci(n):\n",
    "    a,b = 0,1\n",
    "    for i in range(n):\n",
    "        yield a\n",
    "        a,b = b, a+b"
   ]
  },
  {
   "cell_type": "code",
   "execution_count": 2,
   "id": "98d54d57-c2a0-43ec-b61f-d1f1f2a15d2e",
   "metadata": {},
   "outputs": [
    {
     "name": "stdout",
     "output_type": "stream",
     "text": [
      "<generator object fibonacci at 0x7f34c39f5770>\n"
     ]
    }
   ],
   "source": [
    "print(fibonacci(10))"
   ]
  },
  {
   "cell_type": "code",
   "execution_count": 23,
   "id": "0a23e455-cdc7-43d7-bdce-e13df1a19513",
   "metadata": {},
   "outputs": [
    {
     "name": "stdout",
     "output_type": "stream",
     "text": [
      "0\n",
      "1\n",
      "1\n",
      "2\n",
      "3\n",
      "5\n",
      "8\n",
      "13\n",
      "21\n",
      "34\n"
     ]
    }
   ],
   "source": [
    "for i in fibonacci(10):\n",
    "    print(i)"
   ]
  },
  {
   "cell_type": "code",
   "execution_count": 5,
   "id": "d87486d1-03eb-4a1a-8ec8-e851fa9399c8",
   "metadata": {},
   "outputs": [
    {
     "name": "stdout",
     "output_type": "stream",
     "text": [
      "2\n",
      "3\n",
      "5\n",
      "7\n",
      "11\n",
      "13\n",
      "17\n",
      "19\n",
      "23\n",
      "29\n",
      "31\n",
      "37\n",
      "41\n",
      "43\n",
      "47\n",
      "53\n",
      "59\n",
      "61\n",
      "67\n",
      "71\n"
     ]
    }
   ],
   "source": [
    "# Q5. Create a generator function for prime numbers less than 1000. Use the next() method to print the \n",
    "# first 20 prime numbers.\n",
    "\n",
    "#Answer :\n",
    "def prime_generator():\n",
    "    primes = []\n",
    "    num = 2\n",
    "\n",
    "    while num < 1000:\n",
    "        is_prime = True\n",
    "\n",
    "        for prime in primes:\n",
    "            if num % prime == 0:\n",
    "                is_prime = False\n",
    "                break\n",
    "\n",
    "        if is_prime:\n",
    "            primes.append(num)\n",
    "            yield num\n",
    "\n",
    "        num += 1\n",
    "        \n",
    "p = prime_generator()\n",
    "for i in range(20):\n",
    "    print(next(p))"
   ]
  },
  {
   "cell_type": "code",
   "execution_count": 10,
   "id": "11fae837-b92d-4556-a300-31e19e8488f8",
   "metadata": {},
   "outputs": [
    {
     "name": "stdout",
     "output_type": "stream",
     "text": [
      "0\n",
      "1\n",
      "1\n",
      "2\n",
      "3\n",
      "5\n",
      "8\n",
      "13\n",
      "21\n",
      "34\n"
     ]
    }
   ],
   "source": [
    "# Q6. Write a python program to print the first 10 Fibonacci numbers using a while loop.\n",
    "# Answer:\n",
    "    \n",
    "a, b = 0,1\n",
    "i = 0\n",
    "while i<10:\n",
    "    print(a)\n",
    "    a , b = b, a+b\n",
    "    i += 1"
   ]
  },
  {
   "cell_type": "code",
   "execution_count": 11,
   "id": "e6deea91-3b63-4ef3-a617-f297e02011cf",
   "metadata": {},
   "outputs": [
    {
     "data": {
      "text/plain": [
       "['p', 'w', 's', 'k', 'i', 'l', 'l', 's']"
      ]
     },
     "execution_count": 11,
     "metadata": {},
     "output_type": "execute_result"
    }
   ],
   "source": [
    "# Q7. Write a List Comprehension to iterate through the given string: ‘pwskills’.\n",
    "# Expected output: ['p', 'w', 's', 'k', 'i', 'l', 'l', 's'].\n",
    "\n",
    "#Answer :\n",
    "\n",
    "s = 'pwskills'\n",
    "l = []\n",
    "for i in s:\n",
    "    l.append(i)\n",
    "    \n",
    "l"
   ]
  },
  {
   "cell_type": "code",
   "execution_count": 15,
   "id": "d227efcc-171b-4dda-8836-62d8ea3d47ef",
   "metadata": {},
   "outputs": [
    {
     "name": "stdin",
     "output_type": "stream",
     "text": [
      "Enter a iteger 12321\n"
     ]
    },
    {
     "name": "stdout",
     "output_type": "stream",
     "text": [
      "Number is palindrome\n"
     ]
    }
   ],
   "source": [
    "# Q8. Write a python program to check whether a given number is Palindrome or not using a while loop.\n",
    "\n",
    "# Answer :\n",
    "\n",
    "a = int(input('Enter a iteger'))\n",
    "c = a\n",
    "sum = 0\n",
    "while a>0 :\n",
    "    b = a %10\n",
    "    sum = sum*10 + b\n",
    "    a = a//10\n",
    "\n",
    "if c == sum :\n",
    "    print('Number is palindrome')\n",
    "else :\n",
    "    print('Number is not palindrome')"
   ]
  },
  {
   "cell_type": "code",
   "execution_count": 21,
   "id": "1b1b304b-30e1-4985-b5d2-7dc5c0300dcb",
   "metadata": {},
   "outputs": [],
   "source": [
    "#Q9. Write a code to print odd numbers from 1 to 100 using list comprehension.\n",
    "#Answer :\n",
    "\n",
    "l = []\n",
    "l1 = []\n",
    "for i in range(1,101):\n",
    "    l.append(i)\n",
    "    \n",
    "l1 = list(filter(lambda x : x%2 != 0, l))"
   ]
  },
  {
   "cell_type": "code",
   "execution_count": 22,
   "id": "13d2071c-2c40-4b67-af5f-60a2d1cd5ee8",
   "metadata": {},
   "outputs": [
    {
     "data": {
      "text/plain": [
       "[1,\n",
       " 3,\n",
       " 5,\n",
       " 7,\n",
       " 9,\n",
       " 11,\n",
       " 13,\n",
       " 15,\n",
       " 17,\n",
       " 19,\n",
       " 21,\n",
       " 23,\n",
       " 25,\n",
       " 27,\n",
       " 29,\n",
       " 31,\n",
       " 33,\n",
       " 35,\n",
       " 37,\n",
       " 39,\n",
       " 41,\n",
       " 43,\n",
       " 45,\n",
       " 47,\n",
       " 49,\n",
       " 51,\n",
       " 53,\n",
       " 55,\n",
       " 57,\n",
       " 59,\n",
       " 61,\n",
       " 63,\n",
       " 65,\n",
       " 67,\n",
       " 69,\n",
       " 71,\n",
       " 73,\n",
       " 75,\n",
       " 77,\n",
       " 79,\n",
       " 81,\n",
       " 83,\n",
       " 85,\n",
       " 87,\n",
       " 89,\n",
       " 91,\n",
       " 93,\n",
       " 95,\n",
       " 97,\n",
       " 99]"
      ]
     },
     "execution_count": 22,
     "metadata": {},
     "output_type": "execute_result"
    }
   ],
   "source": [
    "l1"
   ]
  },
  {
   "cell_type": "code",
   "execution_count": null,
   "id": "91ba0098-5274-45d8-8b2e-706f43ca94eb",
   "metadata": {},
   "outputs": [],
   "source": []
  }
 ],
 "metadata": {
  "kernelspec": {
   "display_name": "Python 3 (ipykernel)",
   "language": "python",
   "name": "python3"
  },
  "language_info": {
   "codemirror_mode": {
    "name": "ipython",
    "version": 3
   },
   "file_extension": ".py",
   "mimetype": "text/x-python",
   "name": "python",
   "nbconvert_exporter": "python",
   "pygments_lexer": "ipython3",
   "version": "3.10.8"
  }
 },
 "nbformat": 4,
 "nbformat_minor": 5
}
